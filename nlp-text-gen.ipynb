{
 "cells": [
  {
   "cell_type": "code",
   "execution_count": 1,
   "metadata": {
    "_cell_guid": "b1076dfc-b9ad-4769-8c92-a6c4dae69d19",
    "_uuid": "8f2839f25d086af736a60e9eeb907d3b93b6e0e5",
    "execution": {
     "iopub.execute_input": "2022-05-02T05:33:46.114724Z",
     "iopub.status.busy": "2022-05-02T05:33:46.113568Z",
     "iopub.status.idle": "2022-05-02T05:33:46.171031Z",
     "shell.execute_reply": "2022-05-02T05:33:46.169925Z",
     "shell.execute_reply.started": "2022-05-02T05:33:46.114599Z"
    }
   },
   "outputs": [
    {
     "name": "stdout",
     "output_type": "stream",
     "text": [
      "/kaggle/input/shakespeare-plays/alllines.txt\n",
      "/kaggle/input/shakespeare-plays/Shakespeare_data.csv\n",
      "/kaggle/input/shakespeare-plays/william-shakespeare-black-silhouette.jpg\n"
     ]
    }
   ],
   "source": [
    "# This Python 3 environment comes with many helpful analytics libraries installed\n",
    "# It is defined by the kaggle/python Docker image: https://github.com/kaggle/docker-python\n",
    "# For example, here's several helpful packages to load\n",
    "\n",
    "import numpy as np # linear algebra\n",
    "import pandas as pd # data processing, CSV file I/O (e.g. pd.read_csv)\n",
    "\n",
    "# Input data files are available in the read-only \"../input/\" directory\n",
    "# For example, running this (by clicking run or pressing Shift+Enter) will list all files under the input directory\n",
    "\n",
    "import os\n",
    "for dirname, _, filenames in os.walk('/kaggle/input'):\n",
    "    for filename in filenames:\n",
    "        print(os.path.join(dirname, filename))\n",
    "\n",
    "# You can write up to 20GB to the current directory (/kaggle/working/) that gets preserved as output when you create a version using \"Save & Run All\" \n",
    "# You can also write temporary files to /kaggle/temp/, but they won't be saved outside of the current session"
   ]
  },
  {
   "cell_type": "code",
   "execution_count": 2,
   "metadata": {
    "execution": {
     "iopub.execute_input": "2022-05-02T05:33:46.174465Z",
     "iopub.status.busy": "2022-05-02T05:33:46.173739Z",
     "iopub.status.idle": "2022-05-02T05:33:52.310737Z",
     "shell.execute_reply": "2022-05-02T05:33:52.309708Z",
     "shell.execute_reply.started": "2022-05-02T05:33:46.174420Z"
    }
   },
   "outputs": [],
   "source": [
    "from tensorflow.keras.preprocessing.sequence import pad_sequences\n",
    "from tensorflow.keras.layers import Embedding, LSTM, Dense, Dropout, Bidirectional\n",
    "from tensorflow.keras.preprocessing.text import Tokenizer\n",
    "from tensorflow.keras.models import Sequential\n",
    "from tensorflow.keras.optimizers import Adam\n",
    "from tensorflow.keras import regularizers\n",
    "import tensorflow.keras.utils \n",
    "import tensorflow as tf\n",
    "import numpy as np \n",
    "import pandas as pd\n",
    "import numpy as np"
   ]
  },
  {
   "cell_type": "code",
   "execution_count": 3,
   "metadata": {
    "execution": {
     "iopub.execute_input": "2022-05-02T05:33:52.315628Z",
     "iopub.status.busy": "2022-05-02T05:33:52.314736Z",
     "iopub.status.idle": "2022-05-02T05:33:52.737826Z",
     "shell.execute_reply": "2022-05-02T05:33:52.736877Z",
     "shell.execute_reply.started": "2022-05-02T05:33:52.315482Z"
    }
   },
   "outputs": [
    {
     "data": {
      "text/html": [
       "<div>\n",
       "<style scoped>\n",
       "    .dataframe tbody tr th:only-of-type {\n",
       "        vertical-align: middle;\n",
       "    }\n",
       "\n",
       "    .dataframe tbody tr th {\n",
       "        vertical-align: top;\n",
       "    }\n",
       "\n",
       "    .dataframe thead th {\n",
       "        text-align: right;\n",
       "    }\n",
       "</style>\n",
       "<table border=\"1\" class=\"dataframe\">\n",
       "  <thead>\n",
       "    <tr style=\"text-align: right;\">\n",
       "      <th></th>\n",
       "      <th>Dataline</th>\n",
       "      <th>Play</th>\n",
       "      <th>PlayerLinenumber</th>\n",
       "      <th>ActSceneLine</th>\n",
       "      <th>Player</th>\n",
       "      <th>PlayerLine</th>\n",
       "    </tr>\n",
       "  </thead>\n",
       "  <tbody>\n",
       "    <tr>\n",
       "      <th>0</th>\n",
       "      <td>1</td>\n",
       "      <td>Henry IV</td>\n",
       "      <td>NaN</td>\n",
       "      <td>NaN</td>\n",
       "      <td>NaN</td>\n",
       "      <td>ACT I</td>\n",
       "    </tr>\n",
       "    <tr>\n",
       "      <th>1</th>\n",
       "      <td>2</td>\n",
       "      <td>Henry IV</td>\n",
       "      <td>NaN</td>\n",
       "      <td>NaN</td>\n",
       "      <td>NaN</td>\n",
       "      <td>SCENE I. London. The palace.</td>\n",
       "    </tr>\n",
       "    <tr>\n",
       "      <th>2</th>\n",
       "      <td>3</td>\n",
       "      <td>Henry IV</td>\n",
       "      <td>NaN</td>\n",
       "      <td>NaN</td>\n",
       "      <td>NaN</td>\n",
       "      <td>Enter KING HENRY, LORD JOHN OF LANCASTER, the ...</td>\n",
       "    </tr>\n",
       "    <tr>\n",
       "      <th>3</th>\n",
       "      <td>4</td>\n",
       "      <td>Henry IV</td>\n",
       "      <td>1.0</td>\n",
       "      <td>1.1.1</td>\n",
       "      <td>KING HENRY IV</td>\n",
       "      <td>So shaken as we are, so wan with care,</td>\n",
       "    </tr>\n",
       "    <tr>\n",
       "      <th>4</th>\n",
       "      <td>5</td>\n",
       "      <td>Henry IV</td>\n",
       "      <td>1.0</td>\n",
       "      <td>1.1.2</td>\n",
       "      <td>KING HENRY IV</td>\n",
       "      <td>Find we a time for frighted peace to pant,</td>\n",
       "    </tr>\n",
       "  </tbody>\n",
       "</table>\n",
       "</div>"
      ],
      "text/plain": [
       "   Dataline      Play  PlayerLinenumber ActSceneLine         Player  \\\n",
       "0         1  Henry IV               NaN          NaN            NaN   \n",
       "1         2  Henry IV               NaN          NaN            NaN   \n",
       "2         3  Henry IV               NaN          NaN            NaN   \n",
       "3         4  Henry IV               1.0        1.1.1  KING HENRY IV   \n",
       "4         5  Henry IV               1.0        1.1.2  KING HENRY IV   \n",
       "\n",
       "                                          PlayerLine  \n",
       "0                                              ACT I  \n",
       "1                       SCENE I. London. The palace.  \n",
       "2  Enter KING HENRY, LORD JOHN OF LANCASTER, the ...  \n",
       "3             So shaken as we are, so wan with care,  \n",
       "4         Find we a time for frighted peace to pant,  "
      ]
     },
     "execution_count": 3,
     "metadata": {},
     "output_type": "execute_result"
    }
   ],
   "source": [
    "df = pd.read_csv('/kaggle/input/shakespeare-plays/Shakespeare_data.csv')\n",
    "df.head(5)"
   ]
  },
  {
   "cell_type": "code",
   "execution_count": 4,
   "metadata": {
    "execution": {
     "iopub.execute_input": "2022-05-02T05:33:52.744439Z",
     "iopub.status.busy": "2022-05-02T05:33:52.743802Z",
     "iopub.status.idle": "2022-05-02T05:33:53.087505Z",
     "shell.execute_reply": "2022-05-02T05:33:53.086527Z",
     "shell.execute_reply.started": "2022-05-02T05:33:52.744392Z"
    }
   },
   "outputs": [
    {
     "name": "stdout",
     "output_type": "stream",
     "text": [
      "111396\n",
      "['ACT I', 'SCENE I. London. The palace.', 'Enter KING HENRY, LORD JOHN OF LANCASTER, the EARL of WESTMORELAND, SIR WALTER BLUNT, and others']\n"
     ]
    }
   ],
   "source": [
    "import csv\n",
    "\n",
    "corpus = []\n",
    "with open('/kaggle/input/shakespeare-plays/Shakespeare_data.csv') as f:\n",
    "    reader = csv.reader(f, delimiter=',')\n",
    "    next(reader)        # to pass first row,header\n",
    "    for row in reader:\n",
    "        corpus.append(row[5])\n",
    "        \n",
    "print(len(corpus))\n",
    "print(corpus[:3])"
   ]
  },
  {
   "cell_type": "code",
   "execution_count": 5,
   "metadata": {
    "execution": {
     "iopub.execute_input": "2022-05-02T05:33:53.090122Z",
     "iopub.status.busy": "2022-05-02T05:33:53.089077Z",
     "iopub.status.idle": "2022-05-02T05:33:53.878384Z",
     "shell.execute_reply": "2022-05-02T05:33:53.877224Z",
     "shell.execute_reply.started": "2022-05-02T05:33:53.090036Z"
    }
   },
   "outputs": [],
   "source": [
    "import string\n",
    "\n",
    "def text_cleaner(text):\n",
    "    text = \"\".join(car for car in text if car not in string.punctuation).lower()\n",
    "    text = text.encode(\"utf8\").decode(\"ascii\",'ignore')\n",
    "    return text\n",
    "\n",
    "corpus = [text_cleaner(line) for line in corpus]"
   ]
  },
  {
   "cell_type": "code",
   "execution_count": 6,
   "metadata": {
    "execution": {
     "iopub.execute_input": "2022-05-02T05:33:53.880388Z",
     "iopub.status.busy": "2022-05-02T05:33:53.879969Z",
     "iopub.status.idle": "2022-05-02T05:33:53.974950Z",
     "shell.execute_reply": "2022-05-02T05:33:53.973899Z",
     "shell.execute_reply.started": "2022-05-02T05:33:53.880345Z"
    }
   },
   "outputs": [
    {
     "data": {
      "text/plain": [
       "5411"
      ]
     },
     "execution_count": 6,
     "metadata": {},
     "output_type": "execute_result"
    }
   ],
   "source": [
    "# Tokenization is the process of splitting up a text into a list of individual words, or tokens.\n",
    "# corpus is too big if you try with all data, you can see this message\n",
    "corpus = corpus[:5000]\n",
    "tokenizer = Tokenizer()\n",
    "tokenizer.fit_on_texts(corpus)\n",
    "word_index = tokenizer.word_index\n",
    "total_words = len(word_index) + 1\n",
    "total_words"
   ]
  },
  {
   "cell_type": "code",
   "execution_count": 7,
   "metadata": {
    "execution": {
     "iopub.execute_input": "2022-05-02T05:33:53.977041Z",
     "iopub.status.busy": "2022-05-02T05:33:53.976364Z",
     "iopub.status.idle": "2022-05-02T05:33:54.074752Z",
     "shell.execute_reply": "2022-05-02T05:33:54.073771Z",
     "shell.execute_reply.started": "2022-05-02T05:33:53.977008Z"
    }
   },
   "outputs": [],
   "source": [
    "# create input sequences using list of tokens\n",
    "input_sequences =[]\n",
    "\n",
    "for sentence in corpus:\n",
    "    token_list = tokenizer.texts_to_sequences([sentence])[0]\n",
    "    for i in range(1, len(token_list)):\n",
    "        n_gram_sequence = token_list[:i+1]\n",
    "        input_sequences.append(n_gram_sequence)"
   ]
  },
  {
   "cell_type": "code",
   "execution_count": 8,
   "metadata": {
    "execution": {
     "iopub.execute_input": "2022-05-02T05:33:54.076744Z",
     "iopub.status.busy": "2022-05-02T05:33:54.076411Z",
     "iopub.status.idle": "2022-05-02T05:33:54.239201Z",
     "shell.execute_reply": "2022-05-02T05:33:54.238233Z",
     "shell.execute_reply.started": "2022-05-02T05:33:54.076701Z"
    }
   },
   "outputs": [],
   "source": [
    "# pad sequences \n",
    "max_sequence_len = max([len(x) for x in input_sequences])\n",
    "input_sequences = np.array(pad_sequences(input_sequences, \n",
    "                                         maxlen=max_sequence_len, \n",
    "                                         padding='pre'))"
   ]
  },
  {
   "cell_type": "code",
   "execution_count": 9,
   "metadata": {
    "execution": {
     "iopub.execute_input": "2022-05-02T05:33:54.242802Z",
     "iopub.status.busy": "2022-05-02T05:33:54.242167Z",
     "iopub.status.idle": "2022-05-02T05:33:54.321871Z",
     "shell.execute_reply": "2022-05-02T05:33:54.320917Z",
     "shell.execute_reply.started": "2022-05-02T05:33:54.242756Z"
    }
   },
   "outputs": [],
   "source": [
    "# create predictors and label\n",
    "predictors, label = input_sequences[:,:-1],input_sequences[:,-1]\n",
    "# create one-hot encoding of the labels\n",
    "label = tensorflow.keras.utils.to_categorical(label, num_classes=total_words)"
   ]
  },
  {
   "cell_type": "code",
   "execution_count": 10,
   "metadata": {
    "execution": {
     "iopub.execute_input": "2022-05-02T05:33:54.326560Z",
     "iopub.status.busy": "2022-05-02T05:33:54.326246Z",
     "iopub.status.idle": "2022-05-02T05:33:54.334242Z",
     "shell.execute_reply": "2022-05-02T05:33:54.333104Z",
     "shell.execute_reply.started": "2022-05-02T05:33:54.326525Z"
    }
   },
   "outputs": [
    {
     "name": "stdout",
     "output_type": "stream",
     "text": [
      "[0. 0. 0. ... 0. 0. 0.]\n",
      "(32802, 5411)\n",
      "(32802, 33)\n"
     ]
    }
   ],
   "source": [
    "print(label[0])\n",
    "print(label.shape)\n",
    "print(predictors.shape)"
   ]
  },
  {
   "cell_type": "markdown",
   "metadata": {},
   "source": [
    "**Adding laeyrs to our model**"
   ]
  },
  {
   "cell_type": "code",
   "execution_count": 11,
   "metadata": {
    "execution": {
     "iopub.execute_input": "2022-05-02T05:33:54.337069Z",
     "iopub.status.busy": "2022-05-02T05:33:54.336222Z",
     "iopub.status.idle": "2022-05-02T05:33:58.278714Z",
     "shell.execute_reply": "2022-05-02T05:33:58.277577Z",
     "shell.execute_reply.started": "2022-05-02T05:33:54.337023Z"
    }
   },
   "outputs": [
    {
     "name": "stderr",
     "output_type": "stream",
     "text": [
      "2022-05-02 05:33:54.440135: I tensorflow/stream_executor/cuda/cuda_gpu_executor.cc:937] successful NUMA node read from SysFS had negative value (-1), but there must be at least one NUMA node, so returning NUMA node zero\n",
      "2022-05-02 05:33:54.543387: I tensorflow/stream_executor/cuda/cuda_gpu_executor.cc:937] successful NUMA node read from SysFS had negative value (-1), but there must be at least one NUMA node, so returning NUMA node zero\n",
      "2022-05-02 05:33:54.544596: I tensorflow/stream_executor/cuda/cuda_gpu_executor.cc:937] successful NUMA node read from SysFS had negative value (-1), but there must be at least one NUMA node, so returning NUMA node zero\n",
      "2022-05-02 05:33:54.546362: I tensorflow/core/platform/cpu_feature_guard.cc:142] This TensorFlow binary is optimized with oneAPI Deep Neural Network Library (oneDNN) to use the following CPU instructions in performance-critical operations:  AVX2 FMA\n",
      "To enable them in other operations, rebuild TensorFlow with the appropriate compiler flags.\n",
      "2022-05-02 05:33:54.546688: I tensorflow/stream_executor/cuda/cuda_gpu_executor.cc:937] successful NUMA node read from SysFS had negative value (-1), but there must be at least one NUMA node, so returning NUMA node zero\n",
      "2022-05-02 05:33:54.547784: I tensorflow/stream_executor/cuda/cuda_gpu_executor.cc:937] successful NUMA node read from SysFS had negative value (-1), but there must be at least one NUMA node, so returning NUMA node zero\n",
      "2022-05-02 05:33:54.548848: I tensorflow/stream_executor/cuda/cuda_gpu_executor.cc:937] successful NUMA node read from SysFS had negative value (-1), but there must be at least one NUMA node, so returning NUMA node zero\n",
      "2022-05-02 05:33:56.794633: I tensorflow/stream_executor/cuda/cuda_gpu_executor.cc:937] successful NUMA node read from SysFS had negative value (-1), but there must be at least one NUMA node, so returning NUMA node zero\n",
      "2022-05-02 05:33:56.795770: I tensorflow/stream_executor/cuda/cuda_gpu_executor.cc:937] successful NUMA node read from SysFS had negative value (-1), but there must be at least one NUMA node, so returning NUMA node zero\n",
      "2022-05-02 05:33:56.796795: I tensorflow/stream_executor/cuda/cuda_gpu_executor.cc:937] successful NUMA node read from SysFS had negative value (-1), but there must be at least one NUMA node, so returning NUMA node zero\n",
      "2022-05-02 05:33:56.798354: I tensorflow/core/common_runtime/gpu/gpu_device.cc:1510] Created device /job:localhost/replica:0/task:0/device:GPU:0 with 15403 MB memory:  -> device: 0, name: Tesla P100-PCIE-16GB, pci bus id: 0000:00:04.0, compute capability: 6.0\n"
     ]
    },
    {
     "name": "stdout",
     "output_type": "stream",
     "text": [
      "Model: \"sequential\"\n",
      "_________________________________________________________________\n",
      "Layer (type)                 Output Shape              Param #   \n",
      "=================================================================\n",
      "embedding (Embedding)        (None, 33, 10)            54110     \n",
      "_________________________________________________________________\n",
      "bidirectional (Bidirectional (None, 1024)              2142208   \n",
      "_________________________________________________________________\n",
      "dropout (Dropout)            (None, 1024)              0         \n",
      "_________________________________________________________________\n",
      "dense (Dense)                (None, 5411)              5546275   \n",
      "=================================================================\n",
      "Total params: 7,742,593\n",
      "Trainable params: 7,742,593\n",
      "Non-trainable params: 0\n",
      "_________________________________________________________________\n",
      "None\n"
     ]
    }
   ],
   "source": [
    "model = Sequential()\n",
    "model.add(Embedding(total_words, 10, input_length=max_sequence_len-1))\n",
    "model.add(Bidirectional(LSTM(512)))\n",
    "model.add(Dropout(0.3))\n",
    "#model.add(Dense(total_words, activation='softmax'))\n",
    "#model.add(LSTM(128))\n",
    "#model.add(Dropout(0.3))\n",
    "model.add(Dense(total_words, activation='softmax'))\n",
    "model.compile(loss='categorical_crossentropy', optimizer='adam', metrics=['accuracy'])\n",
    "print(model.summary())\n",
    "#(None, 1024)"
   ]
  },
  {
   "cell_type": "code",
   "execution_count": 12,
   "metadata": {
    "execution": {
     "iopub.execute_input": "2022-05-02T05:33:58.280585Z",
     "iopub.status.busy": "2022-05-02T05:33:58.280181Z",
     "iopub.status.idle": "2022-05-02T05:48:24.761666Z",
     "shell.execute_reply": "2022-05-02T05:48:24.760643Z",
     "shell.execute_reply.started": "2022-05-02T05:33:58.280544Z"
    }
   },
   "outputs": [
    {
     "name": "stderr",
     "output_type": "stream",
     "text": [
      "2022-05-02 05:33:59.645606: I tensorflow/compiler/mlir/mlir_graph_optimization_pass.cc:185] None of the MLIR Optimization Passes are enabled (registered 2)\n"
     ]
    },
    {
     "name": "stdout",
     "output_type": "stream",
     "text": [
      "Epoch 1/50\n"
     ]
    },
    {
     "name": "stderr",
     "output_type": "stream",
     "text": [
      "2022-05-02 05:34:03.784483: I tensorflow/stream_executor/cuda/cuda_dnn.cc:369] Loaded cuDNN version 8005\n"
     ]
    },
    {
     "name": "stdout",
     "output_type": "stream",
     "text": [
      "1026/1026 [==============================] - 22s 17ms/step - loss: 6.9201 - accuracy: 0.0353\n",
      "Epoch 2/50\n",
      "1026/1026 [==============================] - 17s 16ms/step - loss: 6.5152 - accuracy: 0.0488\n",
      "Epoch 3/50\n",
      "1026/1026 [==============================] - 17s 16ms/step - loss: 6.3560 - accuracy: 0.0530\n",
      "Epoch 4/50\n",
      "1026/1026 [==============================] - 16s 16ms/step - loss: 6.2233 - accuracy: 0.0577\n",
      "Epoch 5/50\n",
      "1026/1026 [==============================] - 17s 17ms/step - loss: 6.0364 - accuracy: 0.0645\n",
      "Epoch 6/50\n",
      "1026/1026 [==============================] - 17s 16ms/step - loss: 5.8124 - accuracy: 0.0722\n",
      "Epoch 7/50\n",
      "1026/1026 [==============================] - 17s 16ms/step - loss: 5.5418 - accuracy: 0.0824\n",
      "Epoch 8/50\n",
      "1026/1026 [==============================] - 16s 16ms/step - loss: 5.2409 - accuracy: 0.0935\n",
      "Epoch 9/50\n",
      "1026/1026 [==============================] - 17s 17ms/step - loss: 4.8861 - accuracy: 0.1117\n",
      "Epoch 10/50\n",
      "1026/1026 [==============================] - 17s 16ms/step - loss: 4.5295 - accuracy: 0.1430\n",
      "Epoch 11/50\n",
      "1026/1026 [==============================] - 17s 17ms/step - loss: 4.1678 - accuracy: 0.1886\n",
      "Epoch 12/50\n",
      "1026/1026 [==============================] - 16s 16ms/step - loss: 3.8379 - accuracy: 0.2377\n",
      "Epoch 13/50\n",
      "1026/1026 [==============================] - 17s 16ms/step - loss: 3.5451 - accuracy: 0.2838\n",
      "Epoch 14/50\n",
      "1026/1026 [==============================] - 17s 16ms/step - loss: 3.2856 - accuracy: 0.3268\n",
      "Epoch 15/50\n",
      "1026/1026 [==============================] - 17s 16ms/step - loss: 3.0596 - accuracy: 0.3679\n",
      "Epoch 16/50\n",
      "1026/1026 [==============================] - 17s 16ms/step - loss: 2.8578 - accuracy: 0.4052\n",
      "Epoch 17/50\n",
      "1026/1026 [==============================] - 17s 16ms/step - loss: 2.6840 - accuracy: 0.4435\n",
      "Epoch 18/50\n",
      "1026/1026 [==============================] - 17s 16ms/step - loss: 2.5283 - accuracy: 0.4700\n",
      "Epoch 19/50\n",
      "1026/1026 [==============================] - 17s 16ms/step - loss: 2.3974 - accuracy: 0.4953\n",
      "Epoch 20/50\n",
      "1026/1026 [==============================] - 17s 16ms/step - loss: 2.2771 - accuracy: 0.5174\n",
      "Epoch 21/50\n",
      "1026/1026 [==============================] - 17s 16ms/step - loss: 2.1585 - accuracy: 0.5425\n",
      "Epoch 22/50\n",
      "1026/1026 [==============================] - 17s 16ms/step - loss: 2.0712 - accuracy: 0.5598\n",
      "Epoch 23/50\n",
      "1026/1026 [==============================] - 17s 16ms/step - loss: 1.9899 - accuracy: 0.5740\n",
      "Epoch 24/50\n",
      "1026/1026 [==============================] - 17s 16ms/step - loss: 1.9154 - accuracy: 0.5888\n",
      "Epoch 25/50\n",
      "1026/1026 [==============================] - 17s 16ms/step - loss: 1.8472 - accuracy: 0.6030\n",
      "Epoch 26/50\n",
      "1026/1026 [==============================] - 17s 16ms/step - loss: 1.7861 - accuracy: 0.6125\n",
      "Epoch 27/50\n",
      "1026/1026 [==============================] - 17s 16ms/step - loss: 1.7258 - accuracy: 0.6285\n",
      "Epoch 28/50\n",
      "1026/1026 [==============================] - 17s 16ms/step - loss: 1.6859 - accuracy: 0.6346\n",
      "Epoch 29/50\n",
      "1026/1026 [==============================] - 17s 16ms/step - loss: 1.6353 - accuracy: 0.6429\n",
      "Epoch 30/50\n",
      "1026/1026 [==============================] - 17s 16ms/step - loss: 1.5970 - accuracy: 0.6542\n",
      "Epoch 31/50\n",
      "1026/1026 [==============================] - 17s 16ms/step - loss: 1.5544 - accuracy: 0.6604\n",
      "Epoch 32/50\n",
      "1026/1026 [==============================] - 17s 16ms/step - loss: 1.5189 - accuracy: 0.6654\n",
      "Epoch 33/50\n",
      "1026/1026 [==============================] - 17s 16ms/step - loss: 1.4875 - accuracy: 0.6725\n",
      "Epoch 34/50\n",
      "1026/1026 [==============================] - 17s 16ms/step - loss: 1.4566 - accuracy: 0.6783\n",
      "Epoch 35/50\n",
      "1026/1026 [==============================] - 17s 16ms/step - loss: 1.4254 - accuracy: 0.6840\n",
      "Epoch 36/50\n",
      "1026/1026 [==============================] - 17s 16ms/step - loss: 1.4084 - accuracy: 0.6889\n",
      "Epoch 37/50\n",
      "1026/1026 [==============================] - 17s 16ms/step - loss: 1.3759 - accuracy: 0.6954\n",
      "Epoch 38/50\n",
      "1026/1026 [==============================] - 17s 16ms/step - loss: 1.3670 - accuracy: 0.6941\n",
      "Epoch 39/50\n",
      "1026/1026 [==============================] - 16s 16ms/step - loss: 1.3581 - accuracy: 0.6961\n",
      "Epoch 40/50\n",
      "1026/1026 [==============================] - 17s 16ms/step - loss: 1.3077 - accuracy: 0.7090\n",
      "Epoch 41/50\n",
      "1026/1026 [==============================] - 16s 16ms/step - loss: 1.2895 - accuracy: 0.7136\n",
      "Epoch 42/50\n",
      "1026/1026 [==============================] - 17s 16ms/step - loss: 1.2887 - accuracy: 0.7106\n",
      "Epoch 43/50\n",
      "1026/1026 [==============================] - 16s 16ms/step - loss: 1.2659 - accuracy: 0.7145\n",
      "Epoch 44/50\n",
      "1026/1026 [==============================] - 17s 16ms/step - loss: 1.2456 - accuracy: 0.7202\n",
      "Epoch 45/50\n",
      "1026/1026 [==============================] - 17s 16ms/step - loss: 1.2327 - accuracy: 0.7227\n",
      "Epoch 46/50\n",
      "1026/1026 [==============================] - 17s 16ms/step - loss: 1.2111 - accuracy: 0.7272\n",
      "Epoch 47/50\n",
      "1026/1026 [==============================] - 17s 16ms/step - loss: 1.2137 - accuracy: 0.7252\n",
      "Epoch 48/50\n",
      "1026/1026 [==============================] - 17s 16ms/step - loss: 1.2073 - accuracy: 0.7256\n",
      "Epoch 49/50\n",
      "1026/1026 [==============================] - 17s 16ms/step - loss: 1.1903 - accuracy: 0.7310\n",
      "Epoch 50/50\n",
      "1026/1026 [==============================] - 17s 16ms/step - loss: 1.1810 - accuracy: 0.7312\n"
     ]
    }
   ],
   "source": [
    " history = model.fit(predictors, label, epochs=50,  verbose=1)"
   ]
  },
  {
   "cell_type": "markdown",
   "metadata": {},
   "source": [
    "**Checking layer by layer model Output**"
   ]
  },
  {
   "cell_type": "code",
   "execution_count": 13,
   "metadata": {
    "execution": {
     "iopub.execute_input": "2022-05-02T05:48:24.764057Z",
     "iopub.status.busy": "2022-05-02T05:48:24.763671Z",
     "iopub.status.idle": "2022-05-02T05:48:24.773213Z",
     "shell.execute_reply": "2022-05-02T05:48:24.772177Z",
     "shell.execute_reply.started": "2022-05-02T05:48:24.763994Z"
    }
   },
   "outputs": [
    {
     "name": "stdout",
     "output_type": "stream",
     "text": [
      "[[[  0   0   0 ...   0   0   0]\n",
      "  [  0   0   0 ...   0   0   0]\n",
      "  [  0   0   0 ...   0   0   0]\n",
      "  ...\n",
      "  [  0   0   0 ...   0   0   0]\n",
      "  [  0   0   0 ...   0   0   0]\n",
      "  [  0   0   0 ...   4 301   1]]\n",
      "\n",
      " [[  0   0   0 ...   0   0   0]\n",
      "  [  0   0   0 ...   0   0   0]\n",
      "  [  0   0   0 ...   0   0   0]\n",
      "  ...\n",
      "  [  0   0   0 ...   0   0   0]\n",
      "  [  0   0   0 ...   0   0   0]\n",
      "  [  0   0   0 ...  50  93  33]]\n",
      "\n",
      " [[  0   0   0 ...   0   0   0]\n",
      "  [  0   0   0 ...   0   0   0]\n",
      "  [  0   0   0 ...   0   0   0]\n",
      "  ...\n",
      "  [  0   0   0 ...   0   0   0]\n",
      "  [  0   0   0 ...   0   0   0]\n",
      "  [  0   0   0 ... 380 322   2]]]\n"
     ]
    }
   ],
   "source": [
    "list_data = []\n",
    "list_data.append(predictors[4:5])\n",
    "list_data.append(predictors[8:9])\n",
    "list_data.append(predictors[19:20])\n",
    "encode_data=np.array(list_data)\n",
    "#print(encode_data)\n",
    "encode_docs = pad_sequences(encode_data,padding='pre',maxlen=33,truncating='post')\n",
    "#encoded_state = pad_sequence()\n",
    "print(encode_docs)"
   ]
  },
  {
   "cell_type": "code",
   "execution_count": 14,
   "metadata": {
    "execution": {
     "iopub.execute_input": "2022-05-02T05:48:24.775846Z",
     "iopub.status.busy": "2022-05-02T05:48:24.775157Z",
     "iopub.status.idle": "2022-05-02T05:48:24.924410Z",
     "shell.execute_reply": "2022-05-02T05:48:24.923405Z",
     "shell.execute_reply.started": "2022-05-02T05:48:24.775801Z"
    }
   },
   "outputs": [
    {
     "name": "stdout",
     "output_type": "stream",
     "text": [
      "Model: \"sequential_1\"\n",
      "_________________________________________________________________\n",
      "Layer (type)                 Output Shape              Param #   \n",
      "=================================================================\n",
      "embedding_1 (Embedding)      (None, 33, 5)             27055     \n",
      "=================================================================\n",
      "Total params: 27,055\n",
      "Trainable params: 27,055\n",
      "Non-trainable params: 0\n",
      "_________________________________________________________________\n",
      "(3, 1, 33, 5)\n",
      "[[[ 0.01785714  0.0294894  -0.01789104 -0.00384631  0.02957339]\n",
      "  [ 0.01785714  0.0294894  -0.01789104 -0.00384631  0.02957339]\n",
      "  [ 0.01785714  0.0294894  -0.01789104 -0.00384631  0.02957339]\n",
      "  [ 0.01785714  0.0294894  -0.01789104 -0.00384631  0.02957339]\n",
      "  [ 0.01785714  0.0294894  -0.01789104 -0.00384631  0.02957339]\n",
      "  [ 0.01785714  0.0294894  -0.01789104 -0.00384631  0.02957339]\n",
      "  [ 0.01785714  0.0294894  -0.01789104 -0.00384631  0.02957339]\n",
      "  [ 0.01785714  0.0294894  -0.01789104 -0.00384631  0.02957339]\n",
      "  [ 0.01785714  0.0294894  -0.01789104 -0.00384631  0.02957339]\n",
      "  [ 0.01785714  0.0294894  -0.01789104 -0.00384631  0.02957339]\n",
      "  [ 0.01785714  0.0294894  -0.01789104 -0.00384631  0.02957339]\n",
      "  [ 0.01785714  0.0294894  -0.01789104 -0.00384631  0.02957339]\n",
      "  [ 0.01785714  0.0294894  -0.01789104 -0.00384631  0.02957339]\n",
      "  [ 0.01785714  0.0294894  -0.01789104 -0.00384631  0.02957339]\n",
      "  [ 0.01785714  0.0294894  -0.01789104 -0.00384631  0.02957339]\n",
      "  [ 0.01785714  0.0294894  -0.01789104 -0.00384631  0.02957339]\n",
      "  [ 0.01785714  0.0294894  -0.01789104 -0.00384631  0.02957339]\n",
      "  [ 0.01785714  0.0294894  -0.01789104 -0.00384631  0.02957339]\n",
      "  [ 0.01785714  0.0294894  -0.01789104 -0.00384631  0.02957339]\n",
      "  [ 0.01785714  0.0294894  -0.01789104 -0.00384631  0.02957339]\n",
      "  [ 0.01785714  0.0294894  -0.01789104 -0.00384631  0.02957339]\n",
      "  [ 0.01785714  0.0294894  -0.01789104 -0.00384631  0.02957339]\n",
      "  [ 0.01785714  0.0294894  -0.01789104 -0.00384631  0.02957339]\n",
      "  [ 0.01785714  0.0294894  -0.01789104 -0.00384631  0.02957339]\n",
      "  [ 0.01785714  0.0294894  -0.01789104 -0.00384631  0.02957339]\n",
      "  [ 0.01785714  0.0294894  -0.01789104 -0.00384631  0.02957339]\n",
      "  [ 0.01785714  0.0294894  -0.01789104 -0.00384631  0.02957339]\n",
      "  [ 0.01785714  0.0294894  -0.01789104 -0.00384631  0.02957339]\n",
      "  [ 0.01785714  0.0294894  -0.01789104 -0.00384631  0.02957339]\n",
      "  [-0.01405344  0.01591239  0.02624477  0.00250472 -0.00651021]\n",
      "  [-0.04362235 -0.04775118 -0.01695741 -0.0345804  -0.02576519]\n",
      "  [ 0.01423315 -0.03519642  0.03319028  0.04896626 -0.03448343]\n",
      "  [ 0.02509233  0.01080083 -0.00380745  0.00012431  0.01217772]]]\n"
     ]
    }
   ],
   "source": [
    "# first layer output converting words into embedding matrix\n",
    "new_model = Sequential()\n",
    "new_model.add(Embedding(total_words,5,input_length=max_sequence_len-1))\n",
    "new_model.compile('adam','categorical_crossentropy')\n",
    "new_model.summary()\n",
    "output = new_model.predict(encode_data)\n",
    "print(output.shape)\n",
    "print(output[0])"
   ]
  },
  {
   "cell_type": "code",
   "execution_count": 15,
   "metadata": {
    "execution": {
     "iopub.execute_input": "2022-05-02T05:48:24.926932Z",
     "iopub.status.busy": "2022-05-02T05:48:24.926276Z",
     "iopub.status.idle": "2022-05-02T05:48:26.637169Z",
     "shell.execute_reply": "2022-05-02T05:48:26.635924Z",
     "shell.execute_reply.started": "2022-05-02T05:48:24.926884Z"
    }
   },
   "outputs": [
    {
     "name": "stdout",
     "output_type": "stream",
     "text": [
      "Model: \"sequential_2\"\n",
      "_________________________________________________________________\n",
      "Layer (type)                 Output Shape              Param #   \n",
      "=================================================================\n",
      "embedding_2 (Embedding)      (None, 33, 5)             27055     \n",
      "_________________________________________________________________\n",
      "bidirectional_1 (Bidirection (None, 1024)              2121728   \n",
      "=================================================================\n",
      "Total params: 2,148,783\n",
      "Trainable params: 2,148,783\n",
      "Non-trainable params: 0\n",
      "_________________________________________________________________\n",
      "[[[ 0.01785714  0.0294894  -0.01789104 -0.00384631  0.02957339]\n",
      "  [ 0.01785714  0.0294894  -0.01789104 -0.00384631  0.02957339]\n",
      "  [ 0.01785714  0.0294894  -0.01789104 -0.00384631  0.02957339]\n",
      "  [ 0.01785714  0.0294894  -0.01789104 -0.00384631  0.02957339]\n",
      "  [ 0.01785714  0.0294894  -0.01789104 -0.00384631  0.02957339]\n",
      "  [ 0.01785714  0.0294894  -0.01789104 -0.00384631  0.02957339]\n",
      "  [ 0.01785714  0.0294894  -0.01789104 -0.00384631  0.02957339]\n",
      "  [ 0.01785714  0.0294894  -0.01789104 -0.00384631  0.02957339]\n",
      "  [ 0.01785714  0.0294894  -0.01789104 -0.00384631  0.02957339]\n",
      "  [ 0.01785714  0.0294894  -0.01789104 -0.00384631  0.02957339]\n",
      "  [ 0.01785714  0.0294894  -0.01789104 -0.00384631  0.02957339]\n",
      "  [ 0.01785714  0.0294894  -0.01789104 -0.00384631  0.02957339]\n",
      "  [ 0.01785714  0.0294894  -0.01789104 -0.00384631  0.02957339]\n",
      "  [ 0.01785714  0.0294894  -0.01789104 -0.00384631  0.02957339]\n",
      "  [ 0.01785714  0.0294894  -0.01789104 -0.00384631  0.02957339]\n",
      "  [ 0.01785714  0.0294894  -0.01789104 -0.00384631  0.02957339]\n",
      "  [ 0.01785714  0.0294894  -0.01789104 -0.00384631  0.02957339]\n",
      "  [ 0.01785714  0.0294894  -0.01789104 -0.00384631  0.02957339]\n",
      "  [ 0.01785714  0.0294894  -0.01789104 -0.00384631  0.02957339]\n",
      "  [ 0.01785714  0.0294894  -0.01789104 -0.00384631  0.02957339]\n",
      "  [ 0.01785714  0.0294894  -0.01789104 -0.00384631  0.02957339]\n",
      "  [ 0.01785714  0.0294894  -0.01789104 -0.00384631  0.02957339]\n",
      "  [ 0.01785714  0.0294894  -0.01789104 -0.00384631  0.02957339]\n",
      "  [ 0.01785714  0.0294894  -0.01789104 -0.00384631  0.02957339]\n",
      "  [ 0.01785714  0.0294894  -0.01789104 -0.00384631  0.02957339]\n",
      "  [ 0.01785714  0.0294894  -0.01789104 -0.00384631  0.02957339]\n",
      "  [ 0.01785714  0.0294894  -0.01789104 -0.00384631  0.02957339]\n",
      "  [ 0.01785714  0.0294894  -0.01789104 -0.00384631  0.02957339]\n",
      "  [ 0.01785714  0.0294894  -0.01789104 -0.00384631  0.02957339]\n",
      "  [-0.01405344  0.01591239  0.02624477  0.00250472 -0.00651021]\n",
      "  [-0.04362235 -0.04775118 -0.01695741 -0.0345804  -0.02576519]\n",
      "  [ 0.01423315 -0.03519642  0.03319028  0.04896626 -0.03448343]\n",
      "  [ 0.02509233  0.01080083 -0.00380745  0.00012431  0.01217772]]]\n",
      "[[ 0.00086372  0.000564    0.00017182 ... -0.0001319  -0.00289936\n",
      "  -0.00192295]\n",
      " [ 0.00073575  0.0002757  -0.00089538 ... -0.00013298 -0.00289876\n",
      "  -0.0019225 ]\n",
      " [ 0.00010749  0.00010719 -0.00014497 ... -0.00013212 -0.00289519\n",
      "  -0.00192216]\n",
      " ...\n",
      " [ 0.00044406  0.00215785 -0.00020966 ... -0.00012818 -0.00289013\n",
      "  -0.00192813]\n",
      " [ 0.00020695  0.00205286  0.00030319 ... -0.00013257 -0.00289931\n",
      "  -0.00192384]\n",
      " [ 0.00012743  0.00147872 -0.00088593 ... -0.00013381 -0.00289878\n",
      "  -0.00192352]]\n"
     ]
    }
   ],
   "source": [
    "# second layer output of bidirectional Lstm\n",
    "new_model1 = Sequential()\n",
    "new_model1.add(Embedding(total_words,5,input_length=max_sequence_len-1))\n",
    "new_model1.add(Bidirectional(LSTM(512)))\n",
    "new_model1.compile('adam','categorical_crossentropy')\n",
    "new_model1.summary()\n",
    "#output = new_model1.predict(list_data)\n",
    "#print(output.shape)\n",
    "print(output[0])\n",
    "print(new_model1.predict(predictors[22:30]))"
   ]
  },
  {
   "cell_type": "markdown",
   "metadata": {},
   "source": [
    "Chanfing the loss function to check accuracy of new model"
   ]
  },
  {
   "cell_type": "code",
   "execution_count": null,
   "metadata": {},
   "outputs": [],
   "source": []
  },
  {
   "cell_type": "markdown",
   "metadata": {},
   "source": []
  },
  {
   "cell_type": "code",
   "execution_count": 16,
   "metadata": {
    "execution": {
     "iopub.execute_input": "2022-05-02T05:48:26.639274Z",
     "iopub.status.busy": "2022-05-02T05:48:26.638869Z",
     "iopub.status.idle": "2022-05-02T05:48:27.123442Z",
     "shell.execute_reply": "2022-05-02T05:48:27.122447Z",
     "shell.execute_reply.started": "2022-05-02T05:48:26.639199Z"
    }
   },
   "outputs": [
    {
     "data": {
      "image/png": "[encoded data removed]",
      "text/plain": [
       "<Figure size 432x288 with 1 Axes>"
      ]
     },
     "metadata": {
      "needs_background": "light"
     },
     "output_type": "display_data"
    },
    {
     "data": {
      "image/png": "[encoded data removed]",
      "text/plain": [
       "<Figure size 432x288 with 1 Axes>"
      ]
     },
     "metadata": {
      "needs_background": "light"
     },
     "output_type": "display_data"
    }
   ],
   "source": [
    "import matplotlib.pyplot as plt\n",
    "\n",
    "acc = history.history['accuracy']\n",
    "loss = history.history['loss']\n",
    "\n",
    "epochs = range(len(acc))\n",
    "\n",
    "plt.plot(epochs, acc, 'b', label='Training accuracy')\n",
    "plt.title('Training accuracy')\n",
    "\n",
    "plt.figure()\n",
    "\n",
    "plt.plot(epochs, loss, 'b', label='Training Loss')\n",
    "plt.title('Training loss')\n",
    "plt.legend()\n",
    "\n",
    "plt.show()"
   ]
  },
  {
   "cell_type": "markdown",
   "metadata": {},
   "source": [
    "**Traing our model with other loss function to check its accuracy**"
   ]
  },
  {
   "cell_type": "code",
   "execution_count": 17,
   "metadata": {
    "execution": {
     "iopub.execute_input": "2022-05-02T05:48:27.125504Z",
     "iopub.status.busy": "2022-05-02T05:48:27.125198Z",
     "iopub.status.idle": "2022-05-02T05:48:28.329276Z",
     "shell.execute_reply": "2022-05-02T05:48:28.328010Z",
     "shell.execute_reply.started": "2022-05-02T05:48:27.125459Z"
    }
   },
   "outputs": [
    {
     "name": "stdout",
     "output_type": "stream",
     "text": [
      "Model: \"sequential_3\"\n",
      "_________________________________________________________________\n",
      "Layer (type)                 Output Shape              Param #   \n",
      "=================================================================\n",
      "embedding_3 (Embedding)      (None, 33, 10)            54110     \n",
      "_________________________________________________________________\n",
      "bidirectional_2 (Bidirection (None, 1024)              2142208   \n",
      "_________________________________________________________________\n",
      "dropout_1 (Dropout)          (None, 1024)              0         \n",
      "_________________________________________________________________\n",
      "dense_1 (Dense)              (None, 5411)              5546275   \n",
      "=================================================================\n",
      "Total params: 7,742,593\n",
      "Trainable params: 7,742,593\n",
      "Non-trainable params: 0\n",
      "_________________________________________________________________\n",
      "None\n"
     ]
    }
   ],
   "source": [
    "model1 = Sequential()\n",
    "model1.add(Embedding(total_words, 10, input_length=max_sequence_len-1))\n",
    "model1.add(Bidirectional(LSTM(512)))\n",
    "model1.add(Dropout(0.3))\n",
    "#model.add(Dense(total_words, activation='softmax'))\n",
    "#model.add(LSTM(128))\n",
    "#model.add(Dropout(0.3))\n",
    "model1.add(Dense(total_words, activation='softmax'))\n",
    "model1.compile(loss='mse', optimizer='adam', metrics=['accuracy'])\n",
    "print(model1.summary())\n",
    "#(None, 1024)"
   ]
  },
  {
   "cell_type": "code",
   "execution_count": 18,
   "metadata": {
    "execution": {
     "iopub.execute_input": "2022-05-02T05:48:28.336785Z",
     "iopub.status.busy": "2022-05-02T05:48:28.333943Z",
     "iopub.status.idle": "2022-05-02T06:02:54.615401Z",
     "shell.execute_reply": "2022-05-02T06:02:54.614291Z",
     "shell.execute_reply.started": "2022-05-02T05:48:28.336742Z"
    }
   },
   "outputs": [
    {
     "name": "stdout",
     "output_type": "stream",
     "text": [
      "Epoch 1/50\n",
      "1026/1026 [==============================] - 20s 16ms/step - loss: 1.8477e-04 - accuracy: 0.0202\n",
      "Epoch 2/50\n",
      "1026/1026 [==============================] - 17s 16ms/step - loss: 1.8477e-04 - accuracy: 0.0355\n",
      "Epoch 3/50\n",
      "1026/1026 [==============================] - 17s 16ms/step - loss: 1.8477e-04 - accuracy: 0.0355\n",
      "Epoch 4/50\n",
      "1026/1026 [==============================] - 17s 16ms/step - loss: 1.8477e-04 - accuracy: 0.0355\n",
      "Epoch 5/50\n",
      "1026/1026 [==============================] - 17s 16ms/step - loss: 1.8477e-04 - accuracy: 0.0355\n",
      "Epoch 6/50\n",
      "1026/1026 [==============================] - 17s 16ms/step - loss: 1.8477e-04 - accuracy: 0.0355\n",
      "Epoch 7/50\n",
      "1026/1026 [==============================] - 16s 16ms/step - loss: 1.8477e-04 - accuracy: 0.0355\n",
      "Epoch 8/50\n",
      "1026/1026 [==============================] - 17s 16ms/step - loss: 1.8477e-04 - accuracy: 0.0355\n",
      "Epoch 9/50\n",
      "1026/1026 [==============================] - 17s 16ms/step - loss: 1.8477e-04 - accuracy: 0.0355\n",
      "Epoch 10/50\n",
      "1026/1026 [==============================] - 17s 16ms/step - loss: 1.8477e-04 - accuracy: 0.0355\n",
      "Epoch 11/50\n",
      "1026/1026 [==============================] - 17s 16ms/step - loss: 1.8477e-04 - accuracy: 0.0355\n",
      "Epoch 12/50\n",
      "1026/1026 [==============================] - 17s 16ms/step - loss: 1.8477e-04 - accuracy: 0.0355\n",
      "Epoch 13/50\n",
      "1026/1026 [==============================] - 16s 16ms/step - loss: 1.8476e-04 - accuracy: 0.0355\n",
      "Epoch 14/50\n",
      "1026/1026 [==============================] - 17s 17ms/step - loss: 1.8476e-04 - accuracy: 0.0355\n",
      "Epoch 15/50\n",
      "1026/1026 [==============================] - 17s 16ms/step - loss: 1.8426e-04 - accuracy: 0.0319\n",
      "Epoch 16/50\n",
      "1026/1026 [==============================] - 17s 16ms/step - loss: 1.8393e-04 - accuracy: 0.0316\n",
      "Epoch 17/50\n",
      "1026/1026 [==============================] - 17s 16ms/step - loss: 1.8383e-04 - accuracy: 0.0318\n",
      "Epoch 18/50\n",
      "1026/1026 [==============================] - 17s 16ms/step - loss: 1.8380e-04 - accuracy: 0.0323\n",
      "Epoch 19/50\n",
      "1026/1026 [==============================] - 17s 16ms/step - loss: 1.8378e-04 - accuracy: 0.0317\n",
      "Epoch 20/50\n",
      "1026/1026 [==============================] - 17s 16ms/step - loss: 1.8377e-04 - accuracy: 0.0324\n",
      "Epoch 21/50\n",
      "1026/1026 [==============================] - 16s 16ms/step - loss: 1.8375e-04 - accuracy: 0.0312\n",
      "Epoch 22/50\n",
      "1026/1026 [==============================] - 17s 16ms/step - loss: 1.8373e-04 - accuracy: 0.0328\n",
      "Epoch 23/50\n",
      "1026/1026 [==============================] - 16s 16ms/step - loss: 1.8373e-04 - accuracy: 0.0306\n",
      "Epoch 24/50\n",
      "1026/1026 [==============================] - 17s 16ms/step - loss: 1.8373e-04 - accuracy: 0.0329\n",
      "Epoch 25/50\n",
      "1026/1026 [==============================] - 17s 16ms/step - loss: 1.8372e-04 - accuracy: 0.0329\n",
      "Epoch 26/50\n",
      "1026/1026 [==============================] - 17s 16ms/step - loss: 1.8372e-04 - accuracy: 0.0323\n",
      "Epoch 27/50\n",
      "1026/1026 [==============================] - 16s 16ms/step - loss: 1.8371e-04 - accuracy: 0.0323\n",
      "Epoch 28/50\n",
      "1026/1026 [==============================] - 17s 16ms/step - loss: 1.8371e-04 - accuracy: 0.0324\n",
      "Epoch 29/50\n",
      "1026/1026 [==============================] - 17s 16ms/step - loss: 1.8371e-04 - accuracy: 0.0327\n",
      "Epoch 30/50\n",
      "1026/1026 [==============================] - 17s 16ms/step - loss: 1.8370e-04 - accuracy: 0.0336\n",
      "Epoch 31/50\n",
      "1026/1026 [==============================] - 16s 16ms/step - loss: 1.8370e-04 - accuracy: 0.0329\n",
      "Epoch 32/50\n",
      "1026/1026 [==============================] - 17s 16ms/step - loss: 1.8369e-04 - accuracy: 0.0337\n",
      "Epoch 33/50\n",
      "1026/1026 [==============================] - 17s 16ms/step - loss: 1.8368e-04 - accuracy: 0.0354\n",
      "Epoch 34/50\n",
      "1026/1026 [==============================] - 17s 16ms/step - loss: 1.8367e-04 - accuracy: 0.0345\n",
      "Epoch 35/50\n",
      "1026/1026 [==============================] - 16s 16ms/step - loss: 1.8366e-04 - accuracy: 0.0372\n",
      "Epoch 36/50\n",
      "1026/1026 [==============================] - 17s 16ms/step - loss: 1.8365e-04 - accuracy: 0.0377\n",
      "Epoch 37/50\n",
      "1026/1026 [==============================] - 16s 16ms/step - loss: 1.8362e-04 - accuracy: 0.0417\n",
      "Epoch 38/50\n",
      "1026/1026 [==============================] - 17s 17ms/step - loss: 1.8358e-04 - accuracy: 0.0428\n",
      "Epoch 39/50\n",
      "1026/1026 [==============================] - 16s 16ms/step - loss: 1.8354e-04 - accuracy: 0.0445\n",
      "Epoch 40/50\n",
      "1026/1026 [==============================] - 17s 17ms/step - loss: 1.8348e-04 - accuracy: 0.0482\n",
      "Epoch 41/50\n",
      "1026/1026 [==============================] - 17s 16ms/step - loss: 1.8338e-04 - accuracy: 0.0491\n",
      "Epoch 42/50\n",
      "1026/1026 [==============================] - 17s 16ms/step - loss: 1.8324e-04 - accuracy: 0.0506\n",
      "Epoch 43/50\n",
      "1026/1026 [==============================] - 16s 16ms/step - loss: 1.8306e-04 - accuracy: 0.0535\n",
      "Epoch 44/50\n",
      "1026/1026 [==============================] - 17s 17ms/step - loss: 1.8285e-04 - accuracy: 0.0540\n",
      "Epoch 45/50\n",
      "1026/1026 [==============================] - 16s 16ms/step - loss: 1.8255e-04 - accuracy: 0.0553\n",
      "Epoch 46/50\n",
      "1026/1026 [==============================] - 17s 17ms/step - loss: 1.8218e-04 - accuracy: 0.0582\n",
      "Epoch 47/50\n",
      "1026/1026 [==============================] - 16s 16ms/step - loss: 1.8185e-04 - accuracy: 0.0608\n",
      "Epoch 48/50\n",
      "1026/1026 [==============================] - 17s 17ms/step - loss: 1.8156e-04 - accuracy: 0.0602\n",
      "Epoch 49/50\n",
      "1026/1026 [==============================] - 17s 16ms/step - loss: 1.8129e-04 - accuracy: 0.0630\n",
      "Epoch 50/50\n",
      "1026/1026 [==============================] - 17s 16ms/step - loss: 1.8101e-04 - accuracy: 0.0637\n"
     ]
    }
   ],
   "source": [
    "history1 = model1.fit(predictors, label, epochs=50,  verbose=1)"
   ]
  },
  {
   "cell_type": "code",
   "execution_count": 19,
   "metadata": {
    "execution": {
     "iopub.execute_input": "2022-05-02T06:02:54.617735Z",
     "iopub.status.busy": "2022-05-02T06:02:54.617397Z",
     "iopub.status.idle": "2022-05-02T06:02:55.023842Z",
     "shell.execute_reply": "2022-05-02T06:02:55.022911Z",
     "shell.execute_reply.started": "2022-05-02T06:02:54.617690Z"
    }
   },
   "outputs": [
    {
     "data": {
      "image/png": "[encoded data removed]",
      "text/plain": [
       "<Figure size 432x288 with 1 Axes>"
      ]
     },
     "metadata": {
      "needs_background": "light"
     },
     "output_type": "display_data"
    },
    {
     "data": {
      "image/png": "[encoded data removed]",
      "text/plain": [
       "<Figure size 432x288 with 1 Axes>"
      ]
     },
     "metadata": {
      "needs_background": "light"
     },
     "output_type": "display_data"
    }
   ],
   "source": [
    "import matplotlib.pyplot as plt\n",
    "\n",
    "acc = history1.history['accuracy']\n",
    "loss = history1.history['loss']\n",
    "\n",
    "epochs = range(len(acc))\n",
    "\n",
    "plt.plot(epochs, acc, 'b', label='Training accuracy')\n",
    "plt.title('Training accuracy')\n",
    "\n",
    "plt.figure()\n",
    "\n",
    "plt.plot(epochs, loss, 'b', label='Training Loss')\n",
    "plt.title('Training loss')\n",
    "plt.legend()\n",
    "\n",
    "plt.show()"
   ]
  },
  {
   "cell_type": "code",
   "execution_count": 30,
   "metadata": {
    "execution": {
     "iopub.execute_input": "2022-05-02T06:05:50.697369Z",
     "iopub.status.busy": "2022-05-02T06:05:50.696748Z",
     "iopub.status.idle": "2022-05-02T06:05:50.885826Z",
     "shell.execute_reply": "2022-05-02T06:05:50.884805Z",
     "shell.execute_reply.started": "2022-05-02T06:05:50.697336Z"
    }
   },
   "outputs": [
    {
     "name": "stdout",
     "output_type": "stream",
     "text": [
      "the soilder take away to be feared as\n"
     ]
    }
   ],
   "source": [
    "seed_text = \"the soilder take away\"\n",
    "next_words = 4\n",
    "\n",
    "  \n",
    "for _ in range(next_words):\n",
    "    token_list = tokenizer.texts_to_sequences([seed_text])[0]\n",
    "    token_list = pad_sequences([token_list], maxlen=max_sequence_len-1, padding='pre')\n",
    "    predict_x= model.predict(token_list, verbose=0)\n",
    "    predicted=np.argmax(predict_x,axis=1)\n",
    "    output_word = \"\"\n",
    "    for word, index in tokenizer.word_index.items():\n",
    "        if index == predicted:\n",
    "            output_word = word\n",
    "            break\n",
    "    seed_text += \" \" + output_word\n",
    "    if len(seed_text) % 10 == 0 :\n",
    "        seed_text+= '\\n'\n",
    "print(seed_text)"
   ]
  },
  {
   "cell_type": "code",
   "execution_count": 23,
   "metadata": {
    "execution": {
     "iopub.execute_input": "2022-05-02T06:03:34.243257Z",
     "iopub.status.busy": "2022-05-02T06:03:34.242765Z",
     "iopub.status.idle": "2022-05-02T06:03:34.342852Z",
     "shell.execute_reply": "2022-05-02T06:03:34.341829Z",
     "shell.execute_reply.started": "2022-05-02T06:03:34.243221Z"
    }
   },
   "outputs": [
    {
     "name": "stdout",
     "output_type": "stream",
     "text": [
      "the PALACE lord is often king of\n"
     ]
    }
   ],
   "source": [
    "seed_text = \"the PALACE lord is often\"\n",
    "next_words = 2\n",
    "\n",
    "  \n",
    "for _ in range(next_words):\n",
    "    token_list = tokenizer.texts_to_sequences([seed_text])[0]\n",
    "    token_list = pad_sequences([token_list], maxlen=max_sequence_len-1, padding='pre')\n",
    "    predict_x= model.predict(token_list, verbose=0)\n",
    "    predicted=np.argmax(predict_x,axis=1)\n",
    "    output_word = \"\"\n",
    "    for word, index in tokenizer.word_index.items():\n",
    "        if index == predicted:\n",
    "            output_word = word\n",
    "            break\n",
    "    seed_text += \" \" + output_word\n",
    "    if len(seed_text) % 10 == 0 :\n",
    "        seed_text+= '\\n'\n",
    "print(seed_text)"
   ]
  },
  {
   "cell_type": "code",
   "execution_count": 24,
   "metadata": {
    "execution": {
     "iopub.execute_input": "2022-05-02T06:03:46.726920Z",
     "iopub.status.busy": "2022-05-02T06:03:46.726611Z",
     "iopub.status.idle": "2022-05-02T06:03:46.832163Z",
     "shell.execute_reply": "2022-05-02T06:03:46.831199Z",
     "shell.execute_reply.started": "2022-05-02T06:03:46.726880Z"
    }
   },
   "outputs": [
    {
     "name": "stdout",
     "output_type": "stream",
     "text": [
      "Love all, trust a few pluck a\n"
     ]
    }
   ],
   "source": [
    "seed_text = \"Love all, trust a few\"\n",
    "next_words = 2\n",
    "\n",
    "  \n",
    "for _ in range(next_words):\n",
    "    token_list = tokenizer.texts_to_sequences([seed_text])[0]\n",
    "    token_list = pad_sequences([token_list], maxlen=max_sequence_len-1, padding='pre')\n",
    "    #predicted = model.predict_classes(token_list, verbose=0)\n",
    "    predict_x= model.predict(token_list, verbose=0)\n",
    "    predicted=np.argmax(predict_x,axis=1)\n",
    "    output_word = \"\"\n",
    "    for word, index in tokenizer.word_index.items():\n",
    "        if index == predicted:\n",
    "            output_word = word\n",
    "            break\n",
    "    seed_text += \" \" + output_word\n",
    "    if len(seed_text) % 10 == 0 :\n",
    "        seed_text+= '\\n'\n",
    "print(seed_text)"
   ]
  }
 ],
 "metadata": {
  "kernelspec": {
   "display_name": "Python 3 (ipykernel)",
   "language": "python",
   "name": "python3"
  },
  "language_info": {
   "codemirror_mode": {
    "name": "ipython",
    "version": 3
   },
   "file_extension": ".py",
   "mimetype": "text/x-python",
   "name": "python",
   "nbconvert_exporter": "python",
   "pygments_lexer": "ipython3",
   "version": "3.8.5"
  }
 },
 "nbformat": 4,
 "nbformat_minor": 4
}
